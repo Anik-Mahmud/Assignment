{
 "cells": [
  {
   "cell_type": "markdown",
   "metadata": {},
   "source": [
    "# TASK A"
   ]
  },
  {
   "cell_type": "code",
   "execution_count": 113,
   "metadata": {},
   "outputs": [
    {
     "name": "stdout",
     "output_type": "stream",
     "text": [
      "25200.0\n"
     ]
    }
   ],
   "source": [
    "\n",
    "import time\n",
    "a='Sun 10 May 2015 13:54:36 -0700' #Fri 01 May 2015 13:54:36 +0000 Sat 02 May 2015 19:54:36 +0530\n",
    "b='Sun 10 May 2015 13:54:36 -0000' \n",
    "tza=a.split(' ')\n",
    "tzb=b.split(' ')\n",
    "x=int(tza[5])\n",
    "y=int(tzb[5])\n",
    "hra=int(x/100)\n",
    "mna=x%100\n",
    "hrb=int(y/100) \n",
    "mnb=y%100\n",
    "anew=time.strptime(a[:24],\"%a %d %b %Y %H:%M:%S\")\n",
    "bnew=time.strptime(b[:24],\"%a %d %b %Y %H:%M:%S\")\n",
    "t1=time.mktime(anew)\n",
    "t2=time.mktime(bnew)\n",
    "if x>=0:\n",
    "    t1=t1-(hra*3600+mna*60)\n",
    "else:\n",
    "    t1=t1+(hra*3600+mna*60)\n",
    "if y>=0:\n",
    "    t2=t2-(hrb*3600+mnb*60)\n",
    "else:\n",
    "    t2=t2+(hrb*3600+mnb*60)\n",
    "print (abs(t1-t2))"
   ]
  },
  {
   "cell_type": "code",
   "execution_count": null,
   "metadata": {},
   "outputs": [],
   "source": []
  }
 ],
 "metadata": {
  "kernelspec": {
   "display_name": "Python 3",
   "language": "python",
   "name": "python3"
  },
  "language_info": {
   "codemirror_mode": {
    "name": "ipython",
    "version": 3
   },
   "file_extension": ".py",
   "mimetype": "text/x-python",
   "name": "python",
   "nbconvert_exporter": "python",
   "pygments_lexer": "ipython3",
   "version": "3.7.8"
  }
 },
 "nbformat": 4,
 "nbformat_minor": 4
}
